{
  "cells": [
    {
      "cell_type": "markdown",
      "metadata": {
        "id": "yWm3Z7ULLuBn"
      },
      "source": [
        "# Encoding - Part A"
      ]
    },
    {
      "cell_type": "code",
      "execution_count": 111,
      "metadata": {
        "id": "Dv9-wCyvIvqp"
      },
      "outputs": [
        {
          "ename": "",
          "evalue": "",
          "output_type": "error",
          "traceback": [
            "\u001b[1;31mRunning cells with 'Python 3.11.0' requires the ipykernel package.\n",
            "\u001b[1;31mRun the following command to install 'ipykernel' into the Python environment. \n",
            "\u001b[1;31mCommand: '\"c:/Program Files/Python311/python.exe\" -m pip install ipykernel -U --user --force-reinstall'"
          ]
        }
      ],
      "source": [
        "import numpy as np"
      ]
    },
    {
      "cell_type": "code",
      "execution_count": 112,
      "metadata": {
        "id": "lKU99YMYnVVi"
      },
      "outputs": [],
      "source": [
        "def outerProduct(s, t):\n",
        "  return np.outer(s, t)"
      ]
    },
    {
      "cell_type": "code",
      "execution_count": 113,
      "metadata": {
        "collapsed": true,
        "id": "8QbeYgfYmxqn"
      },
      "outputs": [],
      "source": [
        "def train_BAM(s, t):\n",
        "  W = np.zeros((s.shape[1], t.shape[1]), dtype='int32')\n",
        "  for i in range(s.shape[0]):\n",
        "    outer_product = np.outer(matrixTranspose(s[i]), t[i])\n",
        "    W += outer_product\n",
        "  return W"
      ]
    },
    {
      "cell_type": "code",
      "execution_count": 114,
      "metadata": {
        "id": "BMlaLzkPMw0k"
      },
      "outputs": [],
      "source": [
        "def calcWeight(s, t):\n",
        "  return np.dot(s.T, t)"
      ]
    },
    {
      "cell_type": "code",
      "execution_count": 115,
      "metadata": {
        "id": "69xt8EKX3G48"
      },
      "outputs": [],
      "source": [
        "def matrixTranspose(x):\n",
        "  return np.matrix.transpose(x)"
      ]
    },
    {
      "cell_type": "code",
      "execution_count": 116,
      "metadata": {
        "id": "TJZplJIrJ70k"
      },
      "outputs": [],
      "source": [
        "def activationFunction1(y):\n",
        "  if y >= 0:\n",
        "    return 1\n",
        "  else:\n",
        "    return -1"
      ]
    },
    {
      "cell_type": "code",
      "execution_count": 117,
      "metadata": {
        "id": "JWPrLA4yd1x2"
      },
      "outputs": [],
      "source": [
        "def activationFunction2(x):\n",
        "  if x <= 0:\n",
        "    return -1\n",
        "  else:\n",
        "    return 1"
      ]
    },
    {
      "cell_type": "code",
      "execution_count": 118,
      "metadata": {
        "id": "1RiXPPpMr8H_"
      },
      "outputs": [],
      "source": [
        "def threshold(y):\n",
        "  if y > 0:\n",
        "    return 1\n",
        "  elif y == 0:\n",
        "    return y\n",
        "  else:\n",
        "    return -1"
      ]
    },
    {
      "cell_type": "code",
      "execution_count": 119,
      "metadata": {
        "id": "MZhiBmNpscpb"
      },
      "outputs": [],
      "source": [
        "def thresholdActivate(x):\n",
        "  return np.vectorize(threshold)(x)"
      ]
    },
    {
      "cell_type": "code",
      "execution_count": 120,
      "metadata": {
        "id": "bBkx8k_CWm6x"
      },
      "outputs": [],
      "source": [
        "def forward_activate(x):\n",
        "  return np.vectorize(activationFunction1)(x)"
      ]
    },
    {
      "cell_type": "code",
      "execution_count": 121,
      "metadata": {
        "id": "nw_1tqU8eMRP"
      },
      "outputs": [],
      "source": [
        "def backward_activate(x):\n",
        "  return np.vectorize(activationFunction2)(x)"
      ]
    },
    {
      "cell_type": "code",
      "execution_count": 122,
      "metadata": {
        "id": "oxoJRyC2racn"
      },
      "outputs": [],
      "source": [
        "# Used provided threshold function from slides\n",
        "def recall1(x, w, d = 'out'):\n",
        "  equilibrium = False\n",
        "  y_output = None\n",
        "  activateX = y_output\n",
        "\n",
        "  while equilibrium == False:\n",
        "    y_output = forward_activate(w.T.dot(x)) if d == 'out' else thresholdActivate(w.dot(x))\n",
        "\n",
        "    activateX = backward_activate(w.dot(y_output)) if d == 'out' else thresholdActivate(w.T.dot(y_output))\n",
        "\n",
        "    x,equilibrium = activateX,np.all(np.equal(x, activateX))\n",
        "\n",
        "  return y_output"
      ]
    },
    {
      "cell_type": "code",
      "execution_count": 123,
      "metadata": {
        "id": "g1A-NEPesoKf"
      },
      "outputs": [],
      "source": [
        "# Original Vector sets\n",
        "s = np.array([[-1, 1, 1, 1, -1], [-1, -1, -1, -1, 1], [-1, -1, -1, 1, 1]])\n",
        "t = np.array([[1, 1, -1, 1], [1, -1, -1, -1], [-1, -1, 1, 1]])\n",
        "# uses recall1 function to train and predict outputs\n",
        "def BAM_Net1(s, t):\n",
        "  W = train_BAM(s, t)\n",
        "\n",
        "  print(\" X --> Y\")\n",
        "  for x,y in zip(s,t):\n",
        "    y_pred = recall1(x, W, 'out')\n",
        "    print(\"x =\", x, \"target =\", y, \"y =\", y_pred,\" :\", np.array_equal(y, y_pred))\n",
        "\n",
        "  print(\" Y --> X\")\n",
        "\n",
        "  for x,y in zip(s,t):\n",
        "    x_pred = recall1(y, W, 'in')\n",
        "    print(\"y =\", y, \"target =\", x, \"y =\", x_pred,\" :\", np.array_equal(x, x_pred))\n",
        "  return W\n"
      ]
    },
    {
      "cell_type": "code",
      "execution_count": 124,
      "metadata": {
        "colab": {
          "base_uri": "https://localhost:8080/"
        },
        "id": "M3um5fwSspj9",
        "outputId": "18701af5-ee41-4a95-e865-40102e687d9f"
      },
      "outputs": [
        {
          "name": "stdout",
          "output_type": "stream",
          "text": [
            " X --> Y\n",
            "x = [-1  1  1  1 -1] target = [ 1  1 -1  1] y = [ 1  1 -1  1]  : True\n",
            "x = [-1 -1 -1 -1  1] target = [ 1 -1 -1 -1] y = [-1 -1  1 -1]  : False\n",
            "x = [-1 -1 -1  1  1] target = [-1 -1  1  1] y = [-1 -1  1  1]  : True\n",
            " Y --> X\n",
            "y = [ 1  1 -1  1] target = [-1  1  1  1 -1] y = [-1  1  1  1 -1]  : True\n",
            "y = [ 1 -1 -1 -1] target = [-1 -1 -1 -1  1] y = [ 1 -1 -1 -1  1]  : False\n",
            "y = [-1 -1  1  1] target = [-1 -1 -1  1  1] y = [ 1 -1 -1 -1  1]  : False\n"
          ]
        },
        {
          "data": {
            "text/plain": [
              "array([[-1,  1,  1, -1],\n",
              "       [ 1,  3, -1,  1],\n",
              "       [ 1,  3, -1,  1],\n",
              "       [-1,  1,  1,  3],\n",
              "       [-1, -3,  1, -1]], dtype=int32)"
            ]
          },
          "execution_count": 124,
          "metadata": {},
          "output_type": "execute_result"
        }
      ],
      "source": [
        "BAM_Net1(s,t)"
      ]
    },
    {
      "cell_type": "code",
      "execution_count": 125,
      "metadata": {
        "id": "RkyS017sVPZG"
      },
      "outputs": [],
      "source": [
        "# improved threshold used here.\n",
        "def recall(x, w, d = 'out'):\n",
        "  equilibrium = False\n",
        "  y_output = None\n",
        "  activateX = y_output\n",
        "\n",
        "  # Equalibrium reaches when x and activateX vectors are equal\n",
        "  while equilibrium == False:\n",
        "    #  if function receives out then executes forward activate function else backward. X as input -> Y as output\n",
        "    y_output = forward_activate(w.T.dot(x)) if d == 'out' else backward_activate(w.dot(x))\n",
        "\n",
        "    # if function receives out then executes backward activate else forward, Y as input -> X as output\n",
        "    activateX = backward_activate(w.dot(y_output)) if d == 'out' else forward_activate(w.T.dot(y_output))\n",
        "\n",
        "    x,equilibrium = activateX,np.all(np.equal(x, activateX))\n",
        "\n",
        "  return y_output"
      ]
    },
    {
      "cell_type": "code",
      "execution_count": 126,
      "metadata": {
        "id": "ER_ECuqPYI_M"
      },
      "outputs": [],
      "source": [
        "s = np.array([[-1, 1, 1, 1, -1], [-1, -1, -1, -1, 1], [-1, -1, -1, 1, 1]])\n",
        "t = np.array([[1, 1, -1, 1], [1, -1, -1, -1], [-1, -1, 1, 1]])\n",
        "\n",
        "def BAM_Net(s, t):\n",
        "  W = train_BAM(s, t) # trains a BAM network and calculates the weight the matrix\n",
        "\n",
        "  # Prints the Y predicted outputs, if X is the input then Y is the output.\n",
        "  print(\" X --> Y\")\n",
        "  for x,y in zip(s,t):\n",
        "    y_pred = recall(x, W, 'out')\n",
        "    print(\"x =\", x, \"target =\", y, \"y =\", y_pred,\" :\", np.array_equal(y, y_pred))\n",
        "\n",
        "  # Prints X as predicted outputs, if Y is the input from target vectors then X is the predicted output from source vector set s.\n",
        "  print(\" Y --> X\")\n",
        "  for x,y in zip(s,t):\n",
        "    x_pred = recall(y, W, 'in')\n",
        "    print(\"y =\", y, \"target =\", x, \"y =\", x_pred,\" :\", np.array_equal(x, x_pred))\n",
        "  return W\n"
      ]
    },
    {
      "cell_type": "code",
      "execution_count": 127,
      "metadata": {
        "colab": {
          "base_uri": "https://localhost:8080/"
        },
        "id": "asJA-taOtzsN",
        "outputId": "7342bc8c-3084-4b25-a256-bba26dfb3232"
      },
      "outputs": [
        {
          "name": "stdout",
          "output_type": "stream",
          "text": [
            " X --> Y\n",
            "x = [-1  1  1  1 -1] target = [ 1  1 -1  1] y = [ 1  1 -1  1]  : True\n",
            "x = [-1 -1 -1 -1  1] target = [ 1 -1 -1 -1] y = [-1 -1  1 -1]  : False\n",
            "x = [-1 -1 -1  1  1] target = [-1 -1  1  1] y = [-1 -1  1  1]  : True\n",
            " Y --> X\n",
            "y = [ 1  1 -1  1] target = [-1  1  1  1 -1] y = [-1  1  1  1 -1]  : True\n",
            "y = [ 1 -1 -1 -1] target = [-1 -1 -1 -1  1] y = [ 1 -1 -1 -1  1]  : False\n",
            "y = [-1 -1  1  1] target = [-1 -1 -1  1  1] y = [-1 -1 -1  1  1]  : True\n"
          ]
        },
        {
          "data": {
            "text/plain": [
              "array([[-1,  1,  1, -1],\n",
              "       [ 1,  3, -1,  1],\n",
              "       [ 1,  3, -1,  1],\n",
              "       [-1,  1,  1,  3],\n",
              "       [-1, -3,  1, -1]], dtype=int32)"
            ]
          },
          "execution_count": 127,
          "metadata": {},
          "output_type": "execute_result"
        }
      ],
      "source": [
        "BAM_Net(s,t) # BAM net with improved threshold"
      ]
    },
    {
      "cell_type": "markdown",
      "metadata": {
        "id": "z788y1TWODDJ"
      },
      "source": [
        "# Cross Talk - Part B"
      ]
    },
    {
      "cell_type": "code",
      "execution_count": 128,
      "metadata": {
        "colab": {
          "base_uri": "https://localhost:8080/",
          "height": 953
        },
        "id": "3m7GnGZVIneo",
        "outputId": "87d9d36a-6167-4c9d-ad84-c4f963f59679"
      },
      "outputs": [
        {
          "name": "stdout",
          "output_type": "stream",
          "text": [
            "(i,k) = (0, 1)\n",
            "CrossTalk S1: [-1 -1 -1 -1  1] and S0: [-1  1  1  1 -1] = [-0.6  0.6  0.6  0.6]\n",
            "(i,k) = (0, 2)\n",
            "CrossTalk S2: [-1 -1 -1  1  1] and S0: [-1  1  1  1 -1] = [-0.4  0.8  0.4  0.4]\n",
            "CrossTalk of C[0] = [-0.4  0.8  0.4  0.4]\n",
            "||C0||: 1.0583005244258359\n",
            "\n",
            "(i,k) = (1, 0)\n",
            "CrossTalk S0: [-1  1  1  1 -1] and S1: [-1 -1 -1 -1  1] = [-0.6 -0.6  0.6 -0.6]\n",
            "(i,k) = (1, 2)\n",
            "CrossTalk S2: [-1 -1 -1  1  1] and S1: [-1 -1 -1 -1  1] = [-1.2 -1.2  1.2  0. ]\n",
            "CrossTalk of C[1] = [-1.2 -1.2  1.2  0. ]\n",
            "||C1||: 2.078460969082652\n",
            "\n",
            "(i,k) = (2, 0)\n",
            "CrossTalk S0: [-1  1  1  1 -1] and S2: [-1 -1 -1  1  1] = [-0.2 -0.2  0.2 -0.2]\n",
            "(i,k) = (2, 1)\n",
            "CrossTalk S1: [-1 -1 -1 -1  1] and S2: [-1 -1 -1  1  1] = [ 0.4 -0.8 -0.4 -0.8]\n",
            "CrossTalk of C[2] = [ 0.4 -0.8 -0.4 -0.8]\n",
            "||C2||: 1.2649110640673513\n",
            "\n"
          ]
        },
        {
          "data": {
            "image/png": "[encoded data removed]",
            "text/plain": [
              "<Figure size 300x300 with 1 Axes>"
            ]
          },
          "metadata": {},
          "output_type": "display_data"
        },
        {
          "data": {
            "image/png": "[encoded data removed]",
            "text/plain": [
              "<Figure size 300x300 with 1 Axes>"
            ]
          },
          "metadata": {},
          "output_type": "display_data"
        },
        {
          "name": "stdout",
          "output_type": "stream",
          "text": [
            "Cross-Talk values for each vector in A: \n",
            " [[-0.4  0.8  0.4  0.4]\n",
            " [-1.2 -1.2  1.2  0. ]\n",
            " [ 0.4 -0.8 -0.4 -0.8]]\n"
          ]
        }
      ],
      "source": [
        "import numpy as np\n",
        "import pandas as pd\n",
        "import matplotlib.pyplot as plt\n",
        "\n",
        "CrossTalkMagnitude = []\n",
        "\n",
        "# Define matrices s and t\n",
        "s = np.array([[-1, 1, 1, 1, -1], [-1, -1, -1, -1, 1], [-1, -1, -1, 1, 1]])\n",
        "t = np.array([[1, 1, -1, 1], [1, -1, -1, -1], [-1, -1, 1, 1]])\n",
        "\n",
        "# Function to compute cosine similarity\n",
        "def cosine_similarity(a, b):\n",
        "    dot = np.dot(np.matrix.transpose(a), b)\n",
        "    norma = np.linalg.norm(a)\n",
        "    normb = np.linalg.norm(b)\n",
        "    return dot / (norma * normb)\n",
        "\n",
        "# Function to compute cross-talk\n",
        "def computeCrossTalk(s, t):\n",
        "    crossTalk = np.zeros((s.shape[0], t.shape[1]))\n",
        "\n",
        "    # i = 0 k = 1\n",
        "    for i in range(s.shape[0]):\n",
        "        for k in range(s.shape[0]):\n",
        "            if i != k:\n",
        "              print(f\"(i,k) = {i, k}\")\n",
        "              cosValue = cosine_similarity(s[k], s[i])\n",
        "              # Multipling the vector t[k] by the scalar cosValue\n",
        "              crossTalk[i] += t[k].dot(cosValue)\n",
        "              print(f\"CrossTalk S{k}: {s[k]} and S{i}: {s[i]} = {crossTalk[i]}\")\n",
        "        print(f\"CrossTalk of C[{i}] = {crossTalk[i]}\")\n",
        "        print(f\"||C{i}||: {np.linalg.norm(crossTalk[i])}\")\n",
        "\n",
        "        print()\n",
        "    return crossTalk\n",
        "\n",
        "# Computing cross-talk and print the result\n",
        "crossTalkResult = computeCrossTalk(s, t)\n",
        "\n",
        "crossTalkResult = np.round(crossTalkResult, 2)\n",
        "\n",
        "for i in range(len(crossTalkResult)):\n",
        "    CrossTalkMagnitude.append(np.linalg.norm(crossTalkResult[i]))\n",
        "\n",
        "# Magnitude graphical Table\n",
        "CrossTalkMagnitude = np.round(CrossTalkMagnitude, 2)\n",
        "\n",
        "row_labels1 = ['C0', 'C1', 'C2']\n",
        "df = pd.DataFrame(CrossTalkMagnitude, index=row_labels1)\n",
        "\n",
        "fig2, ax2 = plt.subplots(figsize=(3, 3))\n",
        "ax2.axis('tight')\n",
        "ax2.axis('off')\n",
        "table = ax2.table(cellText=df.values, rowLabels=df.index, loc='center')\n",
        "\n",
        "\n",
        "# Cross Talk vector graphical table\n",
        "row_labels = ['C0', 'C1', 'C2']\n",
        "df = pd.DataFrame(crossTalkResult, index=row_labels)\n",
        "\n",
        "# Creating a graphical table\n",
        "fig, ax = plt.subplots(figsize=(3, 3))\n",
        "ax.axis('tight')\n",
        "ax.axis('off')\n",
        "table = ax.table(cellText=df.values, rowLabels=df.index, loc='center')\n",
        "\n",
        "# Showing the plot\n",
        "plt.show()\n",
        "\n",
        "print(\"Cross-Talk values for each vector in A: \\n\", crossTalkResult)\n"
      ]
    },
    {
      "cell_type": "markdown",
      "metadata": {
        "id": "OxbiFbinOMNf"
      },
      "source": [
        "# Part C"
      ]
    },
    {
      "cell_type": "code",
      "execution_count": 129,
      "metadata": {
        "colab": {
          "base_uri": "https://localhost:8080/",
          "height": 1000
        },
        "id": "Wt_BPY7_OLlN",
        "outputId": "3aee3913-64d1-44df-aab7-50a7e3b7bf3f"
      },
      "outputs": [
        {
          "name": "stdout",
          "output_type": "stream",
          "text": [
            "\n",
            "Predicting Outputs BAM Net: \n",
            "\n",
            " X --> Y\n",
            "x = [-1  1  1  1 -1] target = [ 1  1 -1  1] y = [ 1  1 -1  1]  : True\n",
            "x = [-1 -1 -1 -1  1] target = [ 1 -1 -1 -1] y = [ 1 -1 -1  1]  : False\n",
            "x = [-1 -1 -1  1  1] target = [-1 -1  1  1] y = [-1 -1  1  1]  : True\n",
            "x = [1 1 1 1 1] target = [-1  1  1 -1] y = [-1  1  1 -1]  : True\n",
            " Y --> X\n",
            "y = [ 1  1 -1  1] target = [-1  1  1  1 -1] y = [-1  1  1  0 -1]  : False\n",
            "y = [ 1 -1 -1 -1] target = [-1 -1 -1 -1  1] y = [-1 -1 -1 -1 -1]  : False\n",
            "y = [-1 -1  1  1] target = [-1 -1 -1  1  1] y = [ 1 -1 -1  0  1]  : False\n",
            "y = [-1  1  1 -1] target = [1 1 1 1 1] y = [1 1 1 1 1]  : True\n",
            "\n",
            "Computing Cross-Talks: \n",
            "\n",
            "(i,k) = (0, 1)\n",
            "CrossTalk S1: [-1 -1 -1 -1  1] and S0: [-1  1  1  1 -1] = [-0.6  0.6  0.6  0.6]\n",
            "(i,k) = (0, 2)\n",
            "CrossTalk S2: [-1 -1 -1  1  1] and S0: [-1  1  1  1 -1] = [-0.4  0.8  0.4  0.4]\n",
            "(i,k) = (0, 3)\n",
            "CrossTalk S3: [1 1 1 1 1] and S0: [-1  1  1  1 -1] = [-0.6  1.   0.6  0.2]\n",
            "CrossTalk of C[0] = [-0.6  1.   0.6  0.2]\n",
            "||C0||: 1.3266499161421597\n",
            "\n",
            "(i,k) = (1, 0)\n",
            "CrossTalk S0: [-1  1  1  1 -1] and S1: [-1 -1 -1 -1  1] = [-0.6 -0.6  0.6 -0.6]\n",
            "(i,k) = (1, 2)\n",
            "CrossTalk S2: [-1 -1 -1  1  1] and S1: [-1 -1 -1 -1  1] = [-1.2 -1.2  1.2  0. ]\n",
            "(i,k) = (1, 3)\n",
            "CrossTalk S3: [1 1 1 1 1] and S1: [-1 -1 -1 -1  1] = [-0.6 -1.8  0.6  0.6]\n",
            "CrossTalk of C[1] = [-0.6 -1.8  0.6  0.6]\n",
            "||C1||: 2.078460969082652\n",
            "\n",
            "(i,k) = (2, 0)\n",
            "CrossTalk S0: [-1  1  1  1 -1] and S2: [-1 -1 -1  1  1] = [-0.2 -0.2  0.2 -0.2]\n",
            "(i,k) = (2, 1)\n",
            "CrossTalk S1: [-1 -1 -1 -1  1] and S2: [-1 -1 -1  1  1] = [ 0.4 -0.8 -0.4 -0.8]\n",
            "(i,k) = (2, 3)\n",
            "CrossTalk S3: [1 1 1 1 1] and S2: [-1 -1 -1  1  1] = [ 0.6 -1.  -0.6 -0.6]\n",
            "CrossTalk of C[2] = [ 0.6 -1.  -0.6 -0.6]\n",
            "||C2||: 1.4422205101855954\n",
            "\n",
            "(i,k) = (3, 0)\n",
            "CrossTalk S0: [-1  1  1  1 -1] and S3: [1 1 1 1 1] = [ 0.2  0.2 -0.2  0.2]\n",
            "(i,k) = (3, 1)\n",
            "CrossTalk S1: [-1 -1 -1 -1  1] and S3: [1 1 1 1 1] = [-0.4  0.8  0.4  0.8]\n",
            "(i,k) = (3, 2)\n",
            "CrossTalk S2: [-1 -1 -1  1  1] and S3: [1 1 1 1 1] = [-0.2  1.   0.2  0.6]\n",
            "CrossTalk of C[3] = [-0.2  1.   0.2  0.6]\n",
            "||C3||: 1.1999999999999997\n",
            "\n"
          ]
        },
        {
          "data": {
            "image/png": "[encoded data removed]",
            "text/plain": [
              "<Figure size 300x300 with 1 Axes>"
            ]
          },
          "metadata": {},
          "output_type": "display_data"
        },
        {
          "data": {
            "image/png": "[encoded data removed]",
            "text/plain": [
              "<Figure size 300x300 with 1 Axes>"
            ]
          },
          "metadata": {},
          "output_type": "display_data"
        },
        {
          "name": "stdout",
          "output_type": "stream",
          "text": [
            "Cross-Talk values for each vector in A: \n",
            " [[-0.6  1.   0.6  0.2]\n",
            " [-0.6 -1.8  0.6  0.6]\n",
            " [ 0.6 -1.  -0.6 -0.6]\n",
            " [-0.2  1.   0.2  0.6]]\n"
          ]
        }
      ],
      "source": [
        "s = np.array([[-1, 1, 1, 1, -1], [-1, -1, -1, -1, 1], [-1, -1, -1, 1, 1], [1, 1, 1, 1, 1]])\n",
        "t = np.array([[1, 1, -1, 1], [1, -1, -1, -1], [-1, -1, 1, 1], [-1, 1, 1, -1]])\n",
        "\n",
        "CrossTalkMagnitude = []\n",
        "\n",
        "# Predicting Output\n",
        "print(\"\\nPredicting Outputs BAM Net: \\n\")\n",
        "BAM_Net1(s,t)\n",
        "\n",
        "print(\"\\nComputing Cross-Talks: \\n\")\n",
        "# Computing cross-talk and print the result\n",
        "crossTalkResult = computeCrossTalk(s, t)\n",
        "\n",
        "for i in range(len(crossTalkResult)):\n",
        "    CrossTalkMagnitude.append(np.linalg.norm(crossTalkResult[i]))\n",
        "\n",
        "\n",
        "# Magnitude graphical Table\n",
        "CrossTalkMagnitude = np.round(CrossTalkMagnitude, 2)\n",
        "\n",
        "row_labels1 = ['C0', 'C1', 'C2', 'C3']\n",
        "df = pd.DataFrame(CrossTalkMagnitude, index=row_labels1)\n",
        "\n",
        "fig2, ax2 = plt.subplots(figsize=(3, 3))\n",
        "ax2.axis('tight')\n",
        "ax2.axis('off')\n",
        "table = ax2.table(cellText=df.values, rowLabels=df.index, loc='center')\n",
        "\n",
        "\n",
        "crossTalkResult = np.round(crossTalkResult, 2)\n",
        "\n",
        "row_labels = ['C0', 'C1', 'C2', 'C3']\n",
        "df = pd.DataFrame(crossTalkResult, index=row_labels)\n",
        "\n",
        "# Creating a graphical table\n",
        "fig, ax = plt.subplots(figsize=(3, 3))\n",
        "ax.axis('tight')\n",
        "ax.axis('off')\n",
        "table = ax.table(cellText=df.values, rowLabels=df.index, loc='center')\n",
        "\n",
        "# Showing the plot\n",
        "plt.show()\n",
        "\n",
        "print(\"Cross-Talk values for each vector in A: \\n\", crossTalkResult)\n"
      ]
    },
    {
      "cell_type": "code",
      "execution_count": 130,
      "metadata": {
        "colab": {
          "base_uri": "https://localhost:8080/",
          "height": 1000
        },
        "id": "LxxNaXH5qxrD",
        "outputId": "03cca080-4d00-44ae-8abf-b6e43898b48f"
      },
      "outputs": [
        {
          "name": "stdout",
          "output_type": "stream",
          "text": [
            "\n",
            "Predicting Outputs BAM Net: \n",
            "\n",
            " X --> Y\n",
            "x = [-1  1  1  1 -1] target = [ 1  1 -1  1] y = [-1  1  1  1]  : False\n",
            "x = [-1 -1 -1 -1  1] target = [ 1 -1 -1 -1] y = [ 1 -1 -1 -1]  : True\n",
            "x = [-1 -1 -1  1  1] target = [-1 -1  1  1] y = [-1 -1 -1  1]  : False\n",
            "x = [1 1 1 1 1] target = [-1  1  1 -1] y = [-1  1  1  1]  : False\n",
            "x = [-1 -1  1 -1 -1] target = [ 1 -1  1 -1] y = [ 1 -1 -1 -1]  : False\n",
            "x = [-1  1 -1  1 -1] target = [-1 -1 -1 -1] y = [-1 -1 -1  1]  : False\n",
            "x = [ 1 -1 -1 -1  1] target = [ 1  1 -1 -1] y = [ 1 -1 -1 -1]  : False\n",
            " Y --> X\n",
            "y = [ 1  1 -1  1] target = [-1  1  1  1 -1] y = [ 1 -1  1 -1  1]  : False\n",
            "y = [ 1 -1 -1 -1] target = [-1 -1 -1 -1  1] y = [-1 -1 -1 -1 -1]  : False\n",
            "y = [-1 -1  1  1] target = [-1 -1 -1  1  1] y = [-1  1 -1  1 -1]  : False\n",
            "y = [-1  1  1 -1] target = [1 1 1 1 1] y = [1 1 1 1 1]  : True\n",
            "y = [ 1 -1  1 -1] target = [-1 -1  1 -1 -1] y = [-1 -1 -1 -1 -1]  : False\n",
            "y = [-1 -1 -1 -1] target = [-1  1 -1  1 -1] y = [-1 -1 -1 -1 -1]  : False\n",
            "y = [ 1  1 -1 -1] target = [ 1 -1 -1 -1  1] y = [ 1 -1  1 -1  1]  : False\n",
            "\n",
            "Computing Cross-Talks: \n",
            "\n",
            "(i,k) = (0, 1)\n",
            "CrossTalk S1: [-1 -1 -1 -1  1] and S0: [-1  1  1  1 -1] = [-0.6  0.6  0.6  0.6]\n",
            "(i,k) = (0, 2)\n",
            "CrossTalk S2: [-1 -1 -1  1  1] and S0: [-1  1  1  1 -1] = [-0.4  0.8  0.4  0.4]\n",
            "(i,k) = (0, 3)\n",
            "CrossTalk S3: [1 1 1 1 1] and S0: [-1  1  1  1 -1] = [-0.6  1.   0.6  0.2]\n",
            "(i,k) = (0, 4)\n",
            "CrossTalk S4: [-1 -1  1 -1 -1] and S0: [-1  1  1  1 -1] = [-0.4  0.8  0.8  0. ]\n",
            "(i,k) = (0, 5)\n",
            "CrossTalk S5: [-1  1 -1  1 -1] and S0: [-1  1  1  1 -1] = [-1.   0.2  0.2 -0.6]\n",
            "(i,k) = (0, 6)\n",
            "CrossTalk S6: [ 1 -1 -1 -1  1] and S0: [-1  1  1  1 -1] = [-2.  -0.8  1.2  0.4]\n",
            "CrossTalk of C[0] = [-2.  -0.8  1.2  0.4]\n",
            "||C0||: 2.497999199359359\n",
            "\n",
            "(i,k) = (1, 0)\n",
            "CrossTalk S0: [-1  1  1  1 -1] and S1: [-1 -1 -1 -1  1] = [-0.6 -0.6  0.6 -0.6]\n",
            "(i,k) = (1, 2)\n",
            "CrossTalk S2: [-1 -1 -1  1  1] and S1: [-1 -1 -1 -1  1] = [-1.2 -1.2  1.2  0. ]\n",
            "(i,k) = (1, 3)\n",
            "CrossTalk S3: [1 1 1 1 1] and S1: [-1 -1 -1 -1  1] = [-0.6 -1.8  0.6  0.6]\n",
            "(i,k) = (1, 4)\n",
            "CrossTalk S4: [-1 -1  1 -1 -1] and S1: [-1 -1 -1 -1  1] = [-0.4 -2.   0.8  0.4]\n",
            "(i,k) = (1, 5)\n",
            "CrossTalk S5: [-1  1 -1  1 -1] and S1: [-1 -1 -1 -1  1] = [-0.2 -1.8  1.   0.6]\n",
            "(i,k) = (1, 6)\n",
            "CrossTalk S6: [ 1 -1 -1 -1  1] and S1: [-1 -1 -1 -1  1] = [ 0.4 -1.2  0.4  0. ]\n",
            "CrossTalk of C[1] = [ 0.4 -1.2  0.4  0. ]\n",
            "||C1||: 1.3266499161421597\n",
            "\n",
            "(i,k) = (2, 0)\n",
            "CrossTalk S0: [-1  1  1  1 -1] and S2: [-1 -1 -1  1  1] = [-0.2 -0.2  0.2 -0.2]\n",
            "(i,k) = (2, 1)\n",
            "CrossTalk S1: [-1 -1 -1 -1  1] and S2: [-1 -1 -1  1  1] = [ 0.4 -0.8 -0.4 -0.8]\n",
            "(i,k) = (2, 3)\n",
            "CrossTalk S3: [1 1 1 1 1] and S2: [-1 -1 -1  1  1] = [ 0.6 -1.  -0.6 -0.6]\n",
            "(i,k) = (2, 4)\n",
            "CrossTalk S4: [-1 -1  1 -1 -1] and S2: [-1 -1 -1  1  1] = [ 0.4 -0.8 -0.8 -0.4]\n",
            "(i,k) = (2, 5)\n",
            "CrossTalk S5: [-1  1 -1  1 -1] and S2: [-1 -1 -1  1  1] = [ 0.2 -1.  -1.  -0.6]\n",
            "(i,k) = (2, 6)\n",
            "CrossTalk S6: [ 1 -1 -1 -1  1] and S2: [-1 -1 -1  1  1] = [ 0.4 -0.8 -1.2 -0.8]\n",
            "CrossTalk of C[2] = [ 0.4 -0.8 -1.2 -0.8]\n",
            "||C2||: 1.6970562748477136\n",
            "\n",
            "(i,k) = (3, 0)\n",
            "CrossTalk S0: [-1  1  1  1 -1] and S3: [1 1 1 1 1] = [ 0.2  0.2 -0.2  0.2]\n",
            "(i,k) = (3, 1)\n",
            "CrossTalk S1: [-1 -1 -1 -1  1] and S3: [1 1 1 1 1] = [-0.4  0.8  0.4  0.8]\n",
            "(i,k) = (3, 2)\n",
            "CrossTalk S2: [-1 -1 -1  1  1] and S3: [1 1 1 1 1] = [-0.2  1.   0.2  0.6]\n",
            "(i,k) = (3, 4)\n",
            "CrossTalk S4: [-1 -1  1 -1 -1] and S3: [1 1 1 1 1] = [-0.8  1.6 -0.4  1.2]\n",
            "(i,k) = (3, 5)\n",
            "CrossTalk S5: [-1  1 -1  1 -1] and S3: [1 1 1 1 1] = [-0.6  1.8 -0.2  1.4]\n",
            "(i,k) = (3, 6)\n",
            "CrossTalk S6: [ 1 -1 -1 -1  1] and S3: [1 1 1 1 1] = [-0.8  1.6  0.   1.6]\n",
            "CrossTalk of C[3] = [-0.8  1.6  0.   1.6]\n",
            "||C3||: 2.3999999999999995\n",
            "\n",
            "(i,k) = (4, 0)\n",
            "CrossTalk S0: [-1  1  1  1 -1] and S4: [-1 -1  1 -1 -1] = [ 0.2  0.2 -0.2  0.2]\n",
            "(i,k) = (4, 1)\n",
            "CrossTalk S1: [-1 -1 -1 -1  1] and S4: [-1 -1  1 -1 -1] = [ 0.4  0.  -0.4  0. ]\n",
            "(i,k) = (4, 2)\n",
            "CrossTalk S2: [-1 -1 -1  1  1] and S4: [-1 -1  1 -1 -1] = [ 0.6  0.2 -0.6 -0.2]\n",
            "(i,k) = (4, 3)\n",
            "CrossTalk S3: [1 1 1 1 1] and S4: [-1 -1  1 -1 -1] = [ 1.2 -0.4 -1.2  0.4]\n",
            "(i,k) = (4, 5)\n",
            "CrossTalk S5: [-1  1 -1  1 -1] and S4: [-1 -1  1 -1 -1] = [ 1.4 -0.2 -1.   0.6]\n",
            "(i,k) = (4, 6)\n",
            "CrossTalk S6: [ 1 -1 -1 -1  1] and S4: [-1 -1  1 -1 -1] = [ 1.2 -0.4 -0.8  0.8]\n",
            "CrossTalk of C[4] = [ 1.2 -0.4 -0.8  0.8]\n",
            "||C4||: 1.6970562748477136\n",
            "\n",
            "(i,k) = (5, 0)\n",
            "CrossTalk S0: [-1  1  1  1 -1] and S5: [-1  1 -1  1 -1] = [ 0.6  0.6 -0.6  0.6]\n",
            "(i,k) = (5, 1)\n",
            "CrossTalk S1: [-1 -1 -1 -1  1] and S5: [-1  1 -1  1 -1] = [ 0.4  0.8 -0.4  0.8]\n",
            "(i,k) = (5, 2)\n",
            "CrossTalk S2: [-1 -1 -1  1  1] and S5: [-1  1 -1  1 -1] = [ 0.2  0.6 -0.2  1. ]\n",
            "(i,k) = (5, 3)\n",
            "CrossTalk S3: [1 1 1 1 1] and S5: [-1  1 -1  1 -1] = [ 0.4  0.4 -0.4  1.2]\n",
            "(i,k) = (5, 4)\n",
            "CrossTalk S4: [-1 -1  1 -1 -1] and S5: [-1  1 -1  1 -1] = [ 0.2  0.6 -0.6  1.4]\n",
            "(i,k) = (5, 6)\n",
            "CrossTalk S6: [ 1 -1 -1 -1  1] and S5: [-1  1 -1  1 -1] = [-0.4  0.   0.   2. ]\n",
            "CrossTalk of C[5] = [-0.4  0.   0.   2. ]\n",
            "||C5||: 2.0396078054371136\n",
            "\n",
            "(i,k) = (6, 0)\n",
            "CrossTalk S0: [-1  1  1  1 -1] and S6: [ 1 -1 -1 -1  1] = [-1. -1.  1. -1.]\n",
            "(i,k) = (6, 1)\n",
            "CrossTalk S1: [-1 -1 -1 -1  1] and S6: [ 1 -1 -1 -1  1] = [-0.4 -1.6  0.4 -1.6]\n",
            "(i,k) = (6, 2)\n",
            "CrossTalk S2: [-1 -1 -1  1  1] and S6: [ 1 -1 -1 -1  1] = [-0.6 -1.8  0.6 -1.4]\n",
            "(i,k) = (6, 3)\n",
            "CrossTalk S3: [1 1 1 1 1] and S6: [ 1 -1 -1 -1  1] = [-0.4 -2.   0.4 -1.2]\n",
            "(i,k) = (6, 4)\n",
            "CrossTalk S4: [-1 -1  1 -1 -1] and S6: [ 1 -1 -1 -1  1] = [-0.6 -1.8  0.2 -1. ]\n",
            "(i,k) = (6, 5)\n",
            "CrossTalk S5: [-1  1 -1  1 -1] and S6: [ 1 -1 -1 -1  1] = [ 0.  -1.2  0.8 -0.4]\n",
            "CrossTalk of C[6] = [ 0.  -1.2  0.8 -0.4]\n",
            "||C6||: 1.4966629547095762\n",
            "\n"
          ]
        },
        {
          "data": {
            "image/png": "[encoded data removed]",
            "text/plain": [
              "<Figure size 300x300 with 1 Axes>"
            ]
          },
          "metadata": {},
          "output_type": "display_data"
        },
        {
          "data": {
            "image/png": "[encoded data removed]",
            "text/plain": [
              "<Figure size 300x300 with 1 Axes>"
            ]
          },
          "metadata": {},
          "output_type": "display_data"
        },
        {
          "name": "stdout",
          "output_type": "stream",
          "text": [
            "Cross-Talk values for each vector in A: \n",
            " [[-2.  -0.8  1.2  0.4]\n",
            " [ 0.4 -1.2  0.4  0. ]\n",
            " [ 0.4 -0.8 -1.2 -0.8]\n",
            " [-0.8  1.6  0.   1.6]\n",
            " [ 1.2 -0.4 -0.8  0.8]\n",
            " [-0.4  0.   0.   2. ]\n",
            " [ 0.  -1.2  0.8 -0.4]]\n"
          ]
        }
      ],
      "source": [
        "s = np.array([[-1, 1, 1, 1, -1], [-1, -1, -1, -1, 1], [-1, -1, -1, 1, 1], [1, 1, 1, 1, 1], [-1,-1,1,-1,-1], [-1, 1, -1, 1, -1], [1, -1, -1, -1, 1]])\n",
        "t = np.array([[1, 1, -1, 1], [1, -1, -1, -1], [-1, -1, 1, 1], [-1, 1, 1, -1], [1, -1, 1, -1], [-1, -1, -1, -1], [1, 1, -1, -1]])\n",
        "\n",
        "CrossTalkMagnitude = []\n",
        "\n",
        "# Predicting Output\n",
        "print(\"\\nPredicting Outputs BAM Net: \\n\")\n",
        "BAM_Net1(s,t)\n",
        "\n",
        "print(\"\\nComputing Cross-Talks: \\n\")\n",
        "# Compute cross-talk and print the result\n",
        "crossTalkResult = computeCrossTalk(s, t)\n",
        "\n",
        "crossTalkResult = np.round(crossTalkResult, 2)\n",
        "\n",
        "for i in range(len(crossTalkResult)):\n",
        "    CrossTalkMagnitude.append(np.linalg.norm(crossTalkResult[i]))\n",
        "\n",
        "# Magnitude graphical Table\n",
        "CrossTalkMagnitude = np.round(CrossTalkMagnitude, 2)\n",
        "\n",
        "row_labels1 = ['C0', 'C1', 'C2', 'C3', 'C4', 'C5', 'C6']\n",
        "df = pd.DataFrame(CrossTalkMagnitude, index=row_labels1)\n",
        "\n",
        "fig2, ax2 = plt.subplots(figsize=(3, 3))\n",
        "ax2.axis('tight')\n",
        "ax2.axis('off')\n",
        "table = ax2.table(cellText=df.values, rowLabels=df.index, loc='center')\n",
        "\n",
        "# Cross talk graphical table\n",
        "row_labels = ['C0', 'C1', 'C2', 'C3', 'C4', 'C5', 'C6']\n",
        "df = pd.DataFrame(crossTalkResult, index=row_labels)\n",
        "\n",
        "# Create a graphical table\n",
        "fig, ax = plt.subplots(figsize=(3, 3))\n",
        "ax.axis('tight')\n",
        "ax.axis('off')\n",
        "table = ax.table(cellText=df.values, rowLabels=df.index, loc='center')\n",
        "\n",
        "# Show the plot\n",
        "plt.show()\n",
        "\n",
        "print(\"Cross-Talk values for each vector in A: \\n\", crossTalkResult)\n"
      ]
    },
    {
      "cell_type": "markdown",
      "metadata": {
        "id": "rkHwU3HXr9H1"
      },
      "source": [
        "# Part D"
      ]
    },
    {
      "cell_type": "code",
      "execution_count": 131,
      "metadata": {
        "id": "zj__7iKD6A53"
      },
      "outputs": [],
      "source": [
        "import numpy as np\n",
        "\n",
        "def hamming_distance(a, b):\n",
        "    # checks for same length arrays\n",
        "    if len(a) != len(b):\n",
        "        raise ValueError(\"Arrays must be same length\")\n",
        "\n",
        "    # Computing hamming distance by finding positions that differs\n",
        "    return np.sum(np.array(a) != np.array(b))"
      ]
    },
    {
      "cell_type": "code",
      "execution_count": 132,
      "metadata": {
        "colab": {
          "base_uri": "https://localhost:8080/",
          "height": 946
        },
        "id": "GDyMh7XAr6rP",
        "outputId": "df70d1f2-ef6d-47a3-fa07-53f2ca09cf1b"
      },
      "outputs": [
        {
          "name": "stdout",
          "output_type": "stream",
          "text": [
            " X --> Y\n",
            "x = [-1  1  1  1 -1] target = [ 1  1 -1  1] y = [ 1  1 -1  1]  : True\n",
            "x = [-1 -1 -1 -1  1] target = [ 1 -1 -1 -1] y = [-1 -1  1 -1]  : False\n",
            "x = [-1 -1 -1  1  1] target = [-1 -1  1  1] y = [-1 -1  1  1]  : True\n",
            " Y --> X\n",
            "y = [ 1  1 -1  1] target = [-1  1  1  1 -1] y = [-1  1  1  1 -1]  : True\n",
            "y = [ 1 -1 -1 -1] target = [-1 -1 -1 -1  1] y = [ 1 -1 -1 -1  1]  : False\n",
            "y = [-1 -1  1  1] target = [-1 -1 -1  1  1] y = [ 1 -1 -1 -1  1]  : False\n"
          ]
        },
        {
          "data": {
            "image/png": "[encoded data removed]",
            "text/plain": [
              "<Figure size 1400x1000 with 1 Axes>"
            ]
          },
          "metadata": {},
          "output_type": "display_data"
        }
      ],
      "source": [
        "# If the program keeps on running, try clicking run again. It runs instantly.\n",
        "import matplotlib.pyplot as plt\n",
        "from matplotlib.table import Table\n",
        "\n",
        "s = np.array([[-1, 1, 1, 1, -1], [-1, -1, -1, -1, 1], [-1, -1, -1, 1, 1]])\n",
        "\n",
        "t = np.array([[1, 1, -1, 1], [1, -1, -1, -1], [-1, -1, 1, 1]])\n",
        "\n",
        "W = BAM_Net1(s,t)\n",
        "\n",
        "mutated_s = s.copy() # deep copy\n",
        "\n",
        "error = False\n",
        "\n",
        "table_data = []\n",
        "\n",
        "# Recording 20 runs\n",
        "for i in range(20):\n",
        "  for j in range(s.shape[0]):\n",
        "    # mutation probability\n",
        "    if(np.random.random() < 0.2):\n",
        "      rand = np.random.randint(0, 3)\n",
        "\n",
        "      original_s = s[rand] # Stores random vector from set s\n",
        "      mutated_s[rand][j] *= -1 # flips bit\n",
        "      hamming_distance_before = hamming_distance(original_s, mutated_s[rand]) # finding hamming distance\n",
        "\n",
        "      # Error correcting mechanism\n",
        "      #while error == False:\n",
        "      for k in range(6):\n",
        "        Error_Y = recall1(mutated_s[rand], W, 'out')\n",
        "        Error_X = recall1(Error_Y, W, 'in')\n",
        "\n",
        "        if np.array_equal(original_s, Error_X):\n",
        "          break\n",
        "        #error = np.array_equal(original_s, Error_X) # logic to get out of loop, checks if error corrected X is similar to original then it exits\n",
        "\n",
        "      hamming_distance_after = hamming_distance(original_s, Error_X) # Hamming distance of O and C\n",
        "      hamming_distance_ErrorAndMutated = hamming_distance(mutated_s[rand], Error_X) # hamming distance of M & C\n",
        "      table_data.append([i+1, original_s.tolist(), mutated_s[rand].tolist(),\n",
        "                               hamming_distance_before, Error_X.tolist(), hamming_distance_after, hamming_distance_ErrorAndMutated]) # for graph plot\n",
        "\n",
        "# Plotting the table\n",
        "fig, ax = plt.subplots(figsize=(14, 10))\n",
        "ax.set_axis_off()\n",
        "\n",
        "# Creating table\n",
        "tbl = Table(ax, bbox=[0, 0, 1, 1])\n",
        "\n",
        "# Column headers\n",
        "columns = ['Run', 'Original(O)', 'Mutated (M)', 'Hdist(O,M)', 'Error Corrected (C)', 'Hdist(O,C)', 'Hdist(M,C)']\n",
        "\n",
        "# Adding header\n",
        "for i, column in enumerate(columns):\n",
        "    tbl.add_cell(0, i, width=1, height=0.5, text=column, loc='center', facecolor='lightgrey')\n",
        "\n",
        "# Adding data rows\n",
        "for row_idx, row_data in enumerate(table_data):\n",
        "    for col_idx, val in enumerate(row_data):\n",
        "        tbl.add_cell(row_idx+1, col_idx, width=1, height=0.5, text=str(val), loc='center')\n",
        "\n",
        "# Adjusting the plot\n",
        "tbl.auto_set_font_size(False)\n",
        "tbl.set_fontsize(10)\n",
        "ax.add_table(tbl)\n",
        "\n",
        "plt.show()"
      ]
    }
  ],
  "metadata": {
    "colab": {
      "collapsed_sections": [
        "Yu83AGZPrr5e",
        "YyYDYS63LsTi"
      ],
      "provenance": []
    },
    "kernelspec": {
      "display_name": "Python 3",
      "name": "python3"
    },
    "language_info": {
      "name": "python",
      "version": "3.11.0"
    }
  },
  "nbformat": 4,
  "nbformat_minor": 0
}
